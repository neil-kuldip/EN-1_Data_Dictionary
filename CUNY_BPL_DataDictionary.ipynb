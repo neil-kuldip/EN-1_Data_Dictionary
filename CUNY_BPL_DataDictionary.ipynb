{
  "nbformat": 4,
  "nbformat_minor": 0,
  "metadata": {
    "colab": {
      "name": "CUNY BPL - DataDictionary.ipynb",
      "provenance": [],
      "collapsed_sections": [],
      "include_colab_link": true
    },
    "kernelspec": {
      "name": "python3",
      "display_name": "Python 3"
    },
    "language_info": {
      "name": "python"
    }
  },
  "cells": [
    {
      "cell_type": "markdown",
      "metadata": {
        "id": "view-in-github",
        "colab_type": "text"
      },
      "source": [
        "<a href=\"https://colab.research.google.com/github/neil-kuldip/EN-1_Data_Dictionary/blob/main/CUNY_BPL_DataDictionary.ipynb\" target=\"_parent\"><img src=\"https://colab.research.google.com/assets/colab-badge.svg\" alt=\"Open In Colab\"/></a>"
      ]
    },
    {
      "cell_type": "markdown",
      "source": [
        "**Data Dictionary from EN-1 Workbook**\n",
        "1. Create dictionary with the keys being the column names and values being the possible values that column should have\n",
        "2. Have a function that finds words that are similar/exactly what's needed for a column and find those to return"
      ],
      "metadata": {
        "id": "mDSr0xSYVDy1"
      }
    },
    {
      "cell_type": "markdown",
      "source": [
        "# Creating the Data Dictionary\n",
        "##### Hard-coding the inputs from the EN-1 drawing set\n",
        "##### Collection of all the drop down menu inputs found in the EN-1 drawing set organized in a row/column format\n",
        "##### Each term is to the exact case specfication"
      ],
      "metadata": {
        "id": "y2HqNtxZJXtp"
      }
    },
    {
      "cell_type": "code",
      "execution_count": null,
      "metadata": {
        "id": "7zLpkpPaUPfI",
        "colab": {
          "base_uri": "https://localhost:8080/"
        },
        "outputId": "4053203e-0413-4b95-a691-958d81638eec"
      },
      "outputs": [
        {
          "output_type": "execute_result",
          "data": {
            "text/plain": [
              "{'Vertical/Category (Res/Non-Res)': {'Non-Residential',\n",
              "  'Residential',\n",
              "  'Semiheated'},\n",
              " 'Skylight/Category (Res/Non-Res)': {'Non-Residential',\n",
              "  'Residential',\n",
              "  'Semiheated'},\n",
              " 'Vertical/Description (from ASHRAE)': {'Curtainwall fixed',\n",
              "  'Metal framing (entrance door)',\n",
              "  'Metal framing (fixed), 95ft and above',\n",
              "  'Metal framing (fixed), below 95ft',\n",
              "  'Metal framing (operable), below 95ft',\n",
              "  'Metal framing, (operable), 95ft and above',\n",
              "  'Nonmetal framing (all)'},\n",
              " 'Skylight/Description (from ASHRAE)': {'0% - 3.0%', '3.0%+'},\n",
              " 'Shading Devices': {'N/A', 'No', 'Yes'},\n",
              " 'Other': {'Grocery store',\n",
              "  'Healthcare (hospital)',\n",
              "  'Hospital',\n",
              "  'Hotel/motel (<75 rooms)',\n",
              "  'Hotel/motel (>75 rooms)',\n",
              "  'Multifamily',\n",
              "  'Office (5000 - 50,000 ft2)',\n",
              "  'Office (<5000 ft2)',\n",
              "  'Office (>50,000 ft2)',\n",
              "  'Other',\n",
              "  'Restaurant (full service)',\n",
              "  'Restaurant (quick service)',\n",
              "  'Retail (stand alone)',\n",
              "  'Retail (strip mall)',\n",
              "  'School (primary)',\n",
              "  'School (secondary and university)',\n",
              "  'Warehouse (nonrefrigerated)'},\n",
              " 'Occupancy': {'Group A',\n",
              "  'Group B',\n",
              "  'Group B, H, I-2, and I-3',\n",
              "  'Group E & I-4',\n",
              "  'Group F',\n",
              "  'Group I-1',\n",
              "  'Group M',\n",
              "  'Group R-1',\n",
              "  'Group R-2',\n",
              "  'Group S and U'},\n",
              " 'Proposed Building': {'All Other',\n",
              "  'Dormitory',\n",
              "  'Healthcard/hospital',\n",
              "  'Hotel/motel',\n",
              "  'Multifamily',\n",
              "  'Office',\n",
              "  'Restaurant',\n",
              "  'Retail',\n",
              "  'School',\n",
              "  'Warehouse',\n",
              "  'Weighted average'},\n",
              " 'Roof Construction/Space-Conditioning Category': {'Non-Residential',\n",
              "  'Residental',\n",
              "  'Semiheated'},\n",
              " 'Above-Grade Exterior Wall Construction/Space-Conditioning Category': {'Non-Residential',\n",
              "  'Residental',\n",
              "  'Semiheated'},\n",
              " 'Below-Grade Exterior Wall Construction/Space-Conditioning Category': {'Non-Residential',\n",
              "  'Residental',\n",
              "  'Semiheated'},\n",
              " 'Exposed Floor Construction/Space-Conditioning Category': {'Non-Residential',\n",
              "  'Residental',\n",
              "  'Semiheated'},\n",
              " 'Slab-On-Grade Floors/Space-Conditioning Category': {'Non-Residential',\n",
              "  'Residental',\n",
              "  'Semiheated'},\n",
              " 'Opaque Doors/Space-Conditioning Category': {'Non-Residential',\n",
              "  'Residental',\n",
              "  'Semiheated'},\n",
              " 'Roof Construction/Description': {'Attic and Other',\n",
              "  'Insulation Entirely Above Deck',\n",
              "  'Metal Building',\n",
              "  'Solar Reflectance'},\n",
              " 'Above-Grade Exterior Wall Construction/Description': {'Mass',\n",
              "  'Metal Building',\n",
              "  'Steel-Framed',\n",
              "  'Wood-Framed and Other'},\n",
              " 'Below-Grade Exterior Wall Construction/Description': {'Below Grade Wall'},\n",
              " 'Exposed Floor Construction/Description': {'Mass',\n",
              "  'Steel-Joist',\n",
              "  'Wood-Framed and Other'},\n",
              " 'Slab-On-Grade Floors/Description': {'Heated', 'Unheated'},\n",
              " 'Opaque Doors/Description': {'Nonswinging', 'Swinging'},\n",
              " 'M districts, except MX; C districts, except C5, C6 and C overlays on R': {'0',\n",
              "  '1',\n",
              "  '2',\n",
              "  '3',\n",
              "  '4'},\n",
              " 'Space Area (or # Equip.)': {'#', 'SQFT'},\n",
              " 'Baseline Modeled Identically? (Yes/No)': {'No', 'Yes'},\n",
              " 'Space Type (Table 9.6.1)': {'Atrium - first 40ft in height',\n",
              "  'Atrium - height above 40ft',\n",
              "  'Audience/seating area - all other',\n",
              "  'Audience/seating area - auditorium',\n",
              "  'Audience/seating area - convention center',\n",
              "  'Audience/seating area - exercise center',\n",
              "  'Audience/seating area - gymnasium',\n",
              "  'Audience/seating area - motion picture theater',\n",
              "  'Audience/seating area - penitentiary',\n",
              "  'Audience/seating area - performing arts theater',\n",
              "  'Audience/seating area - religious facility',\n",
              "  'Audience/seating area - sports arena',\n",
              "  'Audience/seating area - transportation facility',\n",
              "  'Automotive',\n",
              "  'Banking Activity Area',\n",
              "  'Classroom/lecture/training - all other',\n",
              "  'Classroom/lecture/training - penitentiary',\n",
              "  'Computer room',\n",
              "  'Conference/meeting/multipurpose',\n",
              "  'Confinement Cells',\n",
              "  'Convention Center-Exhibit Space',\n",
              "  'Copy/Print Room',\n",
              "  'Corridor - all other',\n",
              "  'Corridor - facility for visually impaired',\n",
              "  'Corridor - hospital',\n",
              "  'Corridor - manufacturing facility',\n",
              "  'Courtroom',\n",
              "  'Dining Area - Bar Lounge/Leisure Dining',\n",
              "  'Dining Area - Family Dining',\n",
              "  'Dining Area - all other',\n",
              "  'Dining Area - cafeteria/fast food',\n",
              "  'Dining Area - facility for visually impaired',\n",
              "  'Dining Area - living quarters',\n",
              "  'Dining Area - penitentiary',\n",
              "  'Dormitory - living quarters',\n",
              "  'Electrical/Mechanical',\n",
              "  'Emergency Vehicle Garage',\n",
              "  'Facility for Visually Impaired - in a chapel',\n",
              "  'Facility for Visually Impaired - in a rec room/commom living rm',\n",
              "  'Fire station - sleeping quarters',\n",
              "  'Food Preparation Area',\n",
              "  'Guest Room',\n",
              "  'Gymnasium/Exercise Center-Playing Area',\n",
              "  'Gymnasium/Fitness Center - exercise area',\n",
              "  'Healthcare facility - Operating Room',\n",
              "  'Healthcare facility - Patient Room',\n",
              "  'Healthcare facility - Physical Therapy',\n",
              "  'Healthcare facility - Recovery',\n",
              "  'Healthcare facility - exam treatment room',\n",
              "  'Healthcare facility - imaging room',\n",
              "  'Healthcare facility - medical supply room',\n",
              "  \"Healthcare facility - nurse's station\",\n",
              "  'Healthcare facility - nursery',\n",
              "  'Laboratory - in or as a classroom',\n",
              "  'Laboratory - other',\n",
              "  'Laundry/Washing Area',\n",
              "  'Library - Reading Area',\n",
              "  'Loading Dock, Interior',\n",
              "  'Lobby - Elevator',\n",
              "  'Lobby - Hotel',\n",
              "  'Lobby - Motion Picture Theater',\n",
              "  'Lobby - Peforming Arts Theater',\n",
              "  'Lobby - all other',\n",
              "  'Lobby - facility for visually impaired',\n",
              "  'Locker Room',\n",
              "  'Lounge/Breakroom - all other',\n",
              "  'Lounge/Breakroom = healthcare facility',\n",
              "  'Manufacturing-Detailed Manufacturing',\n",
              "  'Manufacturing-Equipment Room',\n",
              "  'Manufacturing-High Bay (25-50ft floor to ceiling ht)',\n",
              "  'Manufacturing-Low Bay (<25ft floor to ceiling ht)',\n",
              "  'Manufacturing=Extra High Bay (>50ft floor to ceiling ht)',\n",
              "  'Multifamily Dwelling Unit',\n",
              "  'Museum-General Exhibition',\n",
              "  'Museum-Restoration',\n",
              "  'Office - Enclosed and < 250 sqft',\n",
              "  'Office - Enclosed and > 250 sqft',\n",
              "  'Office - Open Plan',\n",
              "  'Parking Area, Interior',\n",
              "  'Performing Arts Theater - dressing room',\n",
              "  'Pharmacy Area',\n",
              "  'Post Office-Sorting Area',\n",
              "  'Religious Buildings-Fellowship Hall',\n",
              "  'Religious Buildings-Worship Pulpit, Choir',\n",
              "  'Restroom - all other',\n",
              "  'Restroom - visually impaired',\n",
              "  'Retail-Dressing/Fitting Room',\n",
              "  'Retail-Mall Concourse',\n",
              "  'Sales Area',\n",
              "  'Seating Area, General',\n",
              "  'Sports Arena-Court Sports Area-Class 1',\n",
              "  'Sports Arena-Court Sports Area-Class 2',\n",
              "  'Sports Arena-Court Sports Area-Class 3',\n",
              "  'Sports Arena-Court Sports Area-Class 4',\n",
              "  'Stairwell',\n",
              "  'Storage room - all other',\n",
              "  'Storage room - hospital',\n",
              "  'Storage room < 50 sqft',\n",
              "  'Storage room < 50 sqft and < 1000 sqft',\n",
              "  'Transportation facility - airport concourse',\n",
              "  'Transportation facility - baggage/carousel area',\n",
              "  'Transportation facility - terminal ticket counter',\n",
              "  'Unfinished: Post construction buildout',\n",
              "  'Vehicular Maintenance Area',\n",
              "  'Warehouse storage - medium to bulky, palletized items',\n",
              "  'Warehouse storage - smaller, hand-carried items',\n",
              "  'Workshop'},\n",
              " 'Auto. Controls (Yes/No)': {'No', 'Yes'},\n",
              " 'Daylight Ctrls (Yes/No)': {'No', 'Yes'},\n",
              " 'Type': {'Control Allowance',\n",
              "  'Decorative',\n",
              "  'None',\n",
              "  'Retail Display',\n",
              "  'Room Cavity Ratio'},\n",
              " 'Building Area Type (Table 9.5.1)': {'Automotive facility',\n",
              "  'Courthouse',\n",
              "  'Covention center',\n",
              "  'Dining: bar lounge/leisure',\n",
              "  'Dining: cafeteria/fast food',\n",
              "  'Dining: family',\n",
              "  'Dormitory',\n",
              "  'Exercise center',\n",
              "  'Fire station',\n",
              "  'Gymnasium',\n",
              "  'Health-care clinic',\n",
              "  'Hospital',\n",
              "  'Hotel/Motel',\n",
              "  'Library',\n",
              "  'Manufacturing facility',\n",
              "  'Motion picture theater',\n",
              "  'Multifamily',\n",
              "  'Museum',\n",
              "  'Office',\n",
              "  'Parking Garage',\n",
              "  'Penitentiary',\n",
              "  'Performing arts theater',\n",
              "  'Police station',\n",
              "  'Post office',\n",
              "  'Religious facility',\n",
              "  'Retail',\n",
              "  'School/university',\n",
              "  'Sports arena',\n",
              "  'Town hall',\n",
              "  'Transportation',\n",
              "  'Warehouse',\n",
              "  'Workshop'},\n",
              " 'Total Cooling Capacity/Units': {'BTU/h', 'kBTU/h', 'kW', 'tons'},\n",
              " '*Table 6.8.1 Unitary Cooling Capacity Range/Description': {'<17,000',\n",
              "  '>=135,000 and <240,000',\n",
              "  '>=17,000 and <65,000',\n",
              "  '>=240,000 and <760,000',\n",
              "  '>=65,000 and <135,000',\n",
              "  '>=760,000'},\n",
              " '*Table 6.8.1 Unitary Cooling Capacity Range/Units': {'BTU/h',\n",
              "  'kBTU/h',\n",
              "  'kW',\n",
              "  'tons'},\n",
              " '*Unitary Cooling Eff./Units\\t': {'EER'},\n",
              " 'Total Heating Capacity/Units': {'BTU/h', 'kBTU/h'},\n",
              " '*Table 6.8.1 Unitary Heating Capacity Range/Description': {'<17,000',\n",
              "  '>=135,000 and <240,000',\n",
              "  '>=17,000 and <65,000',\n",
              "  '>=240,000 and <760,000',\n",
              "  '>=65,000 and <135,000',\n",
              "  '>=760,000'},\n",
              " '*Unitary Heating Efficiency/Units': {'AFUE', 'COP', 'Ec', 'Et', 'HSPF'},\n",
              " '*Fan Control/Description': {'Single- or two-speed fan',\n",
              "  'Single-speed fan',\n",
              "  'VAV'},\n",
              " '*Demand Control Ventilation/Description': {'No', 'Yes'},\n",
              " 'Economizer provided?/Description': {'No', 'Yes'},\n",
              " 'Exhaust Air Energy Recovery System Provided?': {'No', 'Yes'},\n",
              " 'This column not used for Section 11 projects': {'Heated-only storage',\n",
              "  'Nonresidential - < 3 floors and < 25,000 ft2',\n",
              "  'Nonresidential - < 5 floors and 25,000 - 150,000 ft2'},\n",
              " 'Condenser Cooling Source': {'Air/None', 'Water/Ground'},\n",
              " 'Heating System Classifcation': {'Electric Resistance',\n",
              "  'Fossil Fuel ',\n",
              "  'Heat Pump'},\n",
              " 'Zone Classification': {'Other',\n",
              "  'Single-Zone Non-Residential',\n",
              "  'Single-Zone Residential'},\n",
              " 'Model Input Parameter/Baseline Design': {'All Others',\n",
              "  'Automotive facility',\n",
              "  'Convenience Store',\n",
              "  'Convention center',\n",
              "  'Courthouse',\n",
              "  'Dining: bar lounge/leisure',\n",
              "  'Dining: cafeteria/fast food',\n",
              "  'Dining: family',\n",
              "  'Exercise center',\n",
              "  'Fire station',\n",
              "  'Gymnasium',\n",
              "  'Health-care clinic',\n",
              "  'Hospital and outpatient surgery center',\n",
              "  'Hotel/Motel',\n",
              "  'Library',\n",
              "  'Manufacturing facility',\n",
              "  'Motion picture theater',\n",
              "  'Multifamily',\n",
              "  'Museum',\n",
              "  'Office',\n",
              "  'Parking garage',\n",
              "  'Penitentiary',\n",
              "  'Police station',\n",
              "  'Post office',\n",
              "  'Religious facility',\n",
              "  'Retail',\n",
              "  'School/university',\n",
              "  'Sports arena',\n",
              "  'Town hall',\n",
              "  'Transportation',\n",
              "  'Warehouse',\n",
              "  'Workshop'},\n",
              " 'Input Rating/Units': {'kBtu/h', 'kW'},\n",
              " 'Efficiency/Units': {'COP', 'EF', 'Et', 'SL'}}"
            ]
          },
          "metadata": {},
          "execution_count": 2
        }
      ],
      "source": [
        "dataDict = {\"Vertical/Category (Res/Non-Res)\" : {\"Residential\", \"Non-Residential\", \"Semiheated\"},\n",
        "            \"Skylight/Category (Res/Non-Res)\" : {\"Residential\", \"Non-Residential\", \"Semiheated\"},\n",
        "            \"Vertical/Description (from ASHRAE)\" : {\"Nonmetal framing (all)\", \n",
        "                                                    \"Metal framing (fixed), below 95ft\", \n",
        "                                                    \"Metal framing (fixed), 95ft and above\", \n",
        "                                                    \"Metal framing (operable), below 95ft\", \n",
        "                                                    \"Metal framing, (operable), 95ft and above\", \n",
        "                                                    \"Curtainwall fixed\", \n",
        "                                                    \"Metal framing (entrance door)\"},\n",
        "            \"Skylight/Description (from ASHRAE)\" : {\"0% - 3.0%\", \"3.0%+\"},\n",
        "            \"Shading Devices\" : {\"N/A\", \"No\", \"Yes\"},\n",
        "            \"Other\" : {\"Grocery store\", \n",
        "                       \"Healthcare (hospital)\", \n",
        "                       \"Hospital\", \n",
        "                       \"Hotel/motel (<75 rooms)\", \n",
        "                       \"Hotel/motel (>75 rooms)\", \n",
        "                       \"Multifamily\", \n",
        "                       \"Office (<5000 ft2)\", \n",
        "                       \"Office (>50,000 ft2)\", \n",
        "                       \"Office (5000 - 50,000 ft2)\", \n",
        "                       \"Other\", \n",
        "                       \"Restaurant (full service)\", \n",
        "                       \"Restaurant (quick service)\", \n",
        "                       \"Retail (strip mall)\", \n",
        "                       \"Retail (stand alone)\", \n",
        "                       \"School (primary)\", \n",
        "                       \"School (secondary and university)\", \n",
        "                       \"Warehouse (nonrefrigerated)\"}, \n",
        "             \"Occupancy\" : {\"Group A\", \n",
        "                           \"Group B\", \n",
        "                           \"Group E & I-4\", \n",
        "                           \"Group I-1\", \n",
        "                           \"Group F\", \n",
        "                           \"Group B, H, I-2, and I-3\", \n",
        "                           \"Group M\", \n",
        "                           \"Group R-1\", \n",
        "                           \"Group R-2\", \n",
        "                           \"Group S and U\"},\n",
        "           \"Proposed Building\" : {\"All Other\",  \n",
        "                                   \"Dormitory\", \n",
        "                                   \"Healthcard/hospital\", \n",
        "                                   \"Hotel/motel\", \n",
        "                                   \"Multifamily\", \n",
        "                                   \"Office\", \n",
        "                                   \"Restaurant\", \n",
        "                                   \"Retail\", \n",
        "                                   \"School\", \n",
        "                                   \"Warehouse\", \n",
        "                                   \"Weighted average\"},\n",
        "            \"Roof Construction/Space-Conditioning Category\" : {\"Non-Residential\",\"Residental\",\"Semiheated\"},\n",
        "            \"Above-Grade Exterior Wall Construction/Space-Conditioning Category\" : {\"Non-Residential\",\"Residental\",\"Semiheated\"},\n",
        "            \"Below-Grade Exterior Wall Construction/Space-Conditioning Category\" : {\"Non-Residential\",\"Residental\",\"Semiheated\"},\n",
        "            \"Exposed Floor Construction/Space-Conditioning Category\" : {\"Non-Residential\",\"Residental\",\"Semiheated\"},\n",
        "            \"Slab-On-Grade Floors/Space-Conditioning Category\" : {\"Non-Residential\",\"Residental\",\"Semiheated\"},\n",
        "            \"Opaque Doors/Space-Conditioning Category\" : {\"Non-Residential\",\"Residental\",\"Semiheated\"},\n",
        "            \"Roof Construction/Description\" : {\"Solar Reflectance\",\n",
        "                                               \"Metal Building\",\n",
        "                                               \"Attic and Other\",\n",
        "                                               \"Insulation Entirely Above Deck\"},\n",
        "            \"Above-Grade Exterior Wall Construction/Description\" : {\"Mass\",\n",
        "                                                                    \"Metal Building\",\n",
        "                                                                    \"Steel-Framed\",\n",
        "                                                                    \"Wood-Framed and Other\"},\n",
        "          \n",
        "            \"Below-Grade Exterior Wall Construction/Description\" : {\"Below Grade Wall\"},\n",
        "\n",
        "            \"Exposed Floor Construction/Description\" : {\"Mass\",\"Wood-Framed and Other\", \"Steel-Joist\"},\n",
        "            \"Slab-On-Grade Floors/Description\" : {\"Heated\", \"Unheated\"},\n",
        "            \"Opaque Doors/Description\" : {\"Swinging\", \"Nonswinging\"},\n",
        "            \"M districts, except MX; C districts, except C5, C6 and C overlays on R\" : {\"0\", \"1\", \"2\", \"3\", \"4\"},\n",
        "            \"Space Area (or # Equip.)\" : {\"#\", \"SQFT\"},\n",
        "            \"Baseline Modeled Identically? (Yes/No)\" : {\"Yes\", \"No\"},\n",
        "            \"Space Type (Table 9.6.1)\" : {\"Atrium - first 40ft in height\", \n",
        "                                          \"Atrium - height above 40ft\", \n",
        "                                          \"Audience/seating area - all other\", \n",
        "                                          \"Audience/seating area - auditorium\", \n",
        "                                          \"Audience/seating area - convention center\",\n",
        "                                          \"Audience/seating area - exercise center\",\n",
        "                                          \"Audience/seating area - gymnasium\",\n",
        "                                          \"Audience/seating area - motion picture theater\",\n",
        "                                          \"Audience/seating area - penitentiary\",\n",
        "                                          \"Audience/seating area - performing arts theater\",\n",
        "                                          \"Audience/seating area - religious facility\",\n",
        "                                          \"Audience/seating area - sports arena\",\n",
        "                                          \"Audience/seating area - transportation facility\",\n",
        "                                          \"Automotive\",\n",
        "                                          \"Banking Activity Area\",\n",
        "                                          \"Classroom/lecture/training - all other\",\n",
        "                                          \"Classroom/lecture/training - penitentiary\",\n",
        "                                          \"Computer room\",\n",
        "                                          \"Conference/meeting/multipurpose\",\n",
        "                                          \"Confinement Cells\",\n",
        "                                          \"Convention Center-Exhibit Space\",\n",
        "                                          \"Copy/Print Room\",\n",
        "                                          \"Corridor - all other\",\n",
        "                                          \"Corridor - facility for visually impaired\",\n",
        "                                          \"Corridor - hospital\",\n",
        "                                          \"Corridor - manufacturing facility\",\n",
        "                                          \"Courtroom\",\n",
        "                                          \"Dining Area - all other\",\n",
        "                                          \"Dining Area - Bar Lounge/Leisure Dining\",\n",
        "                                          \"Dining Area - cafeteria/fast food\",\n",
        "                                          \"Dining Area - facility for visually impaired\",\n",
        "                                          \"Dining Area - Family Dining\",\n",
        "                                          \"Dining Area - penitentiary\",\n",
        "                                          \"Dining Area - living quarters\",\n",
        "                                          \"Dormitory - living quarters\",\n",
        "                                          \"Electrical/Mechanical\",\n",
        "                                          \"Emergency Vehicle Garage\",\n",
        "                                          \"Facility for Visually Impaired - in a chapel\",\n",
        "                                          \"Facility for Visually Impaired - in a rec room/commom living rm\",\n",
        "                                          \"Fire station - sleeping quarters\",\n",
        "                                          \"Food Preparation Area\",\n",
        "                                          \"Guest Room\",\n",
        "                                          \"Gymnasium/Exercise Center-Playing Area\",\n",
        "                                          \"Gymnasium/Fitness Center - exercise area\",\n",
        "                                          \"Healthcare facility - exam treatment room\",\n",
        "                                          \"Healthcare facility - imaging room\",\n",
        "                                          \"Healthcare facility - medical supply room\",\n",
        "                                          \"Healthcare facility - nursery\",\n",
        "                                          \"Healthcare facility - nurse's station\",\n",
        "                                          \"Healthcare facility - Operating Room\",\n",
        "                                          \"Healthcare facility - Patient Room\",\n",
        "                                          \"Healthcare facility - Physical Therapy\",\n",
        "                                          \"Healthcare facility - Recovery\",\n",
        "                                          \"Laboratory - in or as a classroom\",\n",
        "                                          \"Laboratory - other\",\n",
        "                                          \"Laundry/Washing Area\",\n",
        "                                          \"Library - Reading Area\",\n",
        "                                          \"Loading Dock, Interior\",\n",
        "                                          \"Lobby - all other\",\n",
        "                                          \"Lobby - Elevator\",\n",
        "                                          \"Lobby - facility for visually impaired\",\n",
        "                                          \"Lobby - Hotel\",\n",
        "                                          \"Lobby - Motion Picture Theater\",\n",
        "                                          \"Lobby - Peforming Arts Theater\",\n",
        "                                          \"Locker Room\",\n",
        "                                          \"Lounge/Breakroom - all other\",\n",
        "                                          \"Lounge/Breakroom = healthcare facility\",\n",
        "                                          \"Manufacturing-Detailed Manufacturing\",\n",
        "                                          \"Manufacturing-Equipment Room\",\n",
        "                                          \"Manufacturing=Extra High Bay (>50ft floor to ceiling ht)\",\n",
        "                                          \"Manufacturing-High Bay (25-50ft floor to ceiling ht)\",\n",
        "                                          \"Manufacturing-Low Bay (<25ft floor to ceiling ht)\",\n",
        "                                          \"Multifamily Dwelling Unit\",\n",
        "                                          \"Museum-General Exhibition\",\n",
        "                                          \"Museum-Restoration\",\n",
        "                                          \"Office - Enclosed and < 250 sqft\",\n",
        "                                          \"Office - Enclosed and > 250 sqft\",\n",
        "                                          \"Office - Open Plan\",\n",
        "                                          \"Parking Area, Interior\",\n",
        "                                          \"Performing Arts Theater - dressing room\",\n",
        "                                          \"Pharmacy Area\",\n",
        "                                          \"Post Office-Sorting Area\",\n",
        "                                          \"Religious Buildings-Fellowship Hall\",\n",
        "                                          \"Religious Buildings-Worship Pulpit, Choir\",\n",
        "                                          \"Restroom - all other\",\n",
        "                                          \"Restroom - visually impaired\",\n",
        "                                          \"Retail-Dressing/Fitting Room\",\n",
        "                                          \"Retail-Mall Concourse\",\n",
        "                                          \"Sales Area\",\n",
        "                                          \"Seating Area, General\",\n",
        "                                          \"Sports Arena-Court Sports Area-Class 1\",\n",
        "                                          \"Sports Arena-Court Sports Area-Class 2\",\n",
        "                                          \"Sports Arena-Court Sports Area-Class 3\",\n",
        "                                          \"Sports Arena-Court Sports Area-Class 4\",\n",
        "                                          \"Stairwell\",\n",
        "                                          \"Storage room - all other\",\n",
        "                                          \"Storage room - hospital\",\n",
        "                                          \"Storage room < 50 sqft\",\n",
        "                                          \"Storage room < 50 sqft and < 1000 sqft\",\n",
        "                                          \"Transportation facility - airport concourse\",\n",
        "                                          \"Transportation facility - baggage/carousel area\",\n",
        "                                          \"Transportation facility - terminal ticket counter\",\n",
        "                                          \"Unfinished: Post construction buildout\",\n",
        "                                          \"Vehicular Maintenance Area\",\n",
        "                                          \"Warehouse storage - medium to bulky, palletized items\",\n",
        "                                          \"Warehouse storage - smaller, hand-carried items\",\n",
        "                                          \"Workshop\"},\n",
        "                \"Auto. Controls (Yes/No)\" : {\"Yes\", \"No\"},\n",
        "                \"Daylight Ctrls (Yes/No)\" : {\"Yes\", \"No\"},\n",
        "                \"Type\" : {\"None\", \"Decorative\", \"Retail Display\", \"Room Cavity Ratio\", \"Control Allowance\"},\n",
        "                \"Building Area Type (Table 9.5.1)\" : {\"Automotive facility\", \n",
        "                                                      \"Covention center\", \n",
        "                                                      \"Courthouse\", \n",
        "                                                      \"Dining: bar lounge/leisure\", \n",
        "                                                      \"Dining: cafeteria/fast food\", \n",
        "                                                      \"Dining: family\", \n",
        "                                                      \"Dormitory\", \n",
        "                                                      \"Exercise center\",\n",
        "                                                      \"Fire station\", \n",
        "                                                      \"Gymnasium\", \n",
        "                                                      \"Health-care clinic\", \n",
        "                                                      \"Hospital\", \n",
        "                                                      \"Hotel/Motel\", \n",
        "                                                      \"Library\", \n",
        "                                                      \"Manufacturing facility\",\n",
        "                                                      \"Motion picture theater\", \n",
        "                                                      \"Multifamily\", \n",
        "                                                      \"Museum\", \n",
        "                                                      \"Office\", \n",
        "                                                      \"Parking Garage\",\n",
        "                                                      \"Penitentiary\",\n",
        "                                                      \"Performing arts theater\",\n",
        "                                                      \"Police station\",\n",
        "                                                      \"Post office\",\n",
        "                                                      \"Religious facility\",\n",
        "                                                      \"Retail\",\n",
        "                                                      \"School/university\",\n",
        "                                                      \"Sports arena\",\n",
        "                                                      \"Town hall\",\n",
        "                                                      \"Transportation\",\n",
        "                                                      \"Warehouse\",\n",
        "                                                      \"Workshop\"},\n",
        "                \"Total Cooling Capacity/Units\" : {\"kBTU/h\", \"kW\", \"tons\", \"BTU/h\"},\n",
        "                \"*Table 6.8.1 Unitary Cooling Capacity Range/Description\" : {\"<17,000\", \">=17,000 and <65,000\", \">=65,000 and <135,000\", \">=135,000 and <240,000\", \">=240,000 and <760,000\", \">=760,000\"},\n",
        "                \"*Table 6.8.1 Unitary Cooling Capacity Range/Units\" : {\"kBTU/h\", \"kW\", \"tons\", \"BTU/h\"},\n",
        "                \"*Unitary Cooling Eff./Units\t\" : {\"EER\"},\n",
        "                \"Total Heating Capacity/Units\" : {\"kBTU/h\", \"BTU/h\"},\n",
        "                \"*Table 6.8.1 Unitary Heating Capacity Range/Description\" : {\"<17,000\", \">=17,000 and <65,000\", \">=65,000 and <135,000\", \">=135,000 and <240,000\", \">=240,000 and <760,000\", \">=760,000\"},\n",
        "                \"*Unitary Heating Efficiency/Units\" : {\"Et\", \"Ec\", \"AFUE\", \"COP\", \"HSPF\"},\n",
        "                 \"*Fan Control/Description\" : {\"Single- or two-speed fan\", \"Single-speed fan\", \"VAV\"},\n",
        "                \"*Demand Control Ventilation/Description\"\t: {\"Yes\", \"No\"},\n",
        "                \"Economizer provided?/Description\" : {\"Yes\", \"No\"},\n",
        "                \"Exhaust Air Energy Recovery System Provided?\" : {\"Yes\", \"No\"},\n",
        "            \n",
        "                \"This column not used for Section 11 projects\" : {\"Heated-only storage\", \"Nonresidential - < 3 floors and < 25,000 ft2\", \"Nonresidential - < 5 floors and 25,000 - 150,000 ft2\"},\n",
        "                \n",
        "                \"Condenser Cooling Source\" : {\"Water/Ground\", \"Air/None\"},\n",
        "              \"Heating System Classifcation\" : {\"Electric Resistance\", \"Heat Pump\", \"Fossil Fuel \"},\n",
        "              \"Zone Classification\" : {\"Single-Zone Residential\", \"Single-Zone Non-Residential\", \"Other\"},\n",
        "            \n",
        "              \"Model Input Parameter/Baseline Design\" : {\"Multifamily\", \n",
        "                                            \"All Others\", \n",
        "                                            \"Automotive facility\", \n",
        "                                            \"Convenience Store\" , \n",
        "                                            \"Convention center\",\n",
        "                                            \"Courthouse\",\n",
        "                                            \"Dining: bar lounge/leisure\",\n",
        "                                            \"Dining: family\",\n",
        "                                            \"Dining: cafeteria/fast food\",\n",
        "                                            \"Exercise center\",\n",
        "                                            \"Fire station\",\n",
        "                                            \"Gymnasium\",\n",
        "                                            \"Health-care clinic\",\n",
        "                                            \"Hospital and outpatient surgery center\",\n",
        "                                            \"Hotel/Motel\",\n",
        "                                            \"Library\",\n",
        "                                            \"Manufacturing facility\",\n",
        "                                            \"Motion picture theater\",\n",
        "                                            \"Multifamily\",\n",
        "                                            \"Museum\",\n",
        "                                            \"Office\",\n",
        "                                            \"Parking garage\",\n",
        "                                            \"Penitentiary\",\n",
        "                                            \"Police station\",\n",
        "                                            \"Post office\",\n",
        "                                            \"Religious facility\",\n",
        "                                            \"Retail\",\n",
        "                                            \"School/university\",\n",
        "                                            \"Sports arena\",\n",
        "                                            \"Town hall\",\n",
        "                                            \"Transportation\",\n",
        "                                            \"Warehouse\",\n",
        "                                            \"Workshop\"},\n",
        "              \"Input Rating/Units\" : {\"kBtu/h\", \"kW\"},\n",
        "              \"Efficiency/Units\" : {\"EF\", \"SL\", \"Et\", \"COP\"}\n",
        "}\n",
        "dataDict\n",
        "\n",
        "\n"
      ]
    },
    {
      "cell_type": "markdown",
      "source": [
        "# Utilizing Dictionary Values\n",
        "##### This section focuses on extracting the dict values to be stored as a downloadable text file and/or to be used for a spellchecker algorithm"
      ],
      "metadata": {
        "id": "MqWUMBBjJ8Jn"
      }
    },
    {
      "cell_type": "code",
      "source": [
        "# allTxtFieldVals --> all dataDict values in a set for easy lookup (ex. if x in allTxtFieldVals), probably useful for a spellchecker algo \n",
        "# Current implementation makes a set of unique terms in the dictionary values through set intersection\n",
        "allTxtFieldVals = set().union(*dataDict.values())\n",
        "print(allTxtFieldVals)\n",
        "print(len(allTxtFieldVals))"
      ],
      "metadata": {
        "colab": {
          "base_uri": "https://localhost:8080/"
        },
        "id": "cLEkVOIOLynA",
        "outputId": "138d82bb-491f-4e9c-cfa8-79f83eabd697"
      },
      "execution_count": null,
      "outputs": [
        {
          "output_type": "stream",
          "name": "stdout",
          "text": [
            "{'kW', 'Healthcare facility - medical supply room', 'Atrium - height above 40ft', 'Dining: bar lounge/leisure', 'Audience/seating area - convention center', 'Healthcare facility - Operating Room', 'Covention center', 'Steel-Framed', 'Religious Buildings-Fellowship Hall', 'Unheated', 'Dining Area - Family Dining', 'Convention center', 'Weighted average', 'Sports Arena-Court Sports Area-Class 3', '#', 'Motion picture theater', 'Group A', 'Residental', 'Computer room', 'Manufacturing-Equipment Room', 'Below Grade Wall', '3.0%+', 'Restaurant (quick service)', 'Dining Area - cafeteria/fast food', 'Manufacturing=Extra High Bay (>50ft floor to ceiling ht)', 'Swinging', 'Dining Area - living quarters', 'Solar Reflectance', 'Audience/seating area - all other', 'Storage room < 50 sqft', 'Retail Display', 'Library', 'Laboratory - other', 'Healthcare (hospital)', 'Storage room - all other', 'Lobby - facility for visually impaired', 'School (primary)', 'Restaurant', 'Healthcare facility - nursery', 'Exercise center', 'Lounge/Breakroom = healthcare facility', 'Parking Area, Interior', 'Curtainwall fixed', 'Wood-Framed and Other', 'Warehouse storage - smaller, hand-carried items', 'Parking Garage', 'Single-speed fan', 'Nonresidential - < 3 floors and < 25,000 ft2', 'Restroom - visually impaired', 'Retail-Dressing/Fitting Room', 'Metal framing (entrance door)', 'Warehouse (nonrefrigerated)', '2', 'Post office', 'Heated', 'Gymnasium/Fitness Center - exercise area', 'Heated-only storage', 'Residential', 'Dining Area - penitentiary', 'Religious facility', 'Hotel/motel', 'Audience/seating area - auditorium', 'Lobby - Elevator', 'Steel-Joist', '1', 'Manufacturing-Detailed Manufacturing', 'Town hall', 'SQFT', 'Parking garage', 'kBtu/h', 'Food Preparation Area', 'Group R-1', 'Facility for Visually Impaired - in a rec room/commom living rm', 'Performing Arts Theater - dressing room', '>=760,000', 'All Others', 'Metal framing (fixed), below 95ft', '>=135,000 and <240,000', 'Group B, H, I-2, and I-3', 'Gymnasium', 'Audience/seating area - religious facility', 'Conference/meeting/multipurpose', 'Transportation facility - airport concourse', 'Nonresidential - < 5 floors and 25,000 - 150,000 ft2', 'Control Allowance', 'BTU/h', 'Office (>50,000 ft2)', 'Other', 'Electric Resistance', 'Metal Building', 'Transportation facility - terminal ticket counter', 'Lobby - Motion Picture Theater', 'Group S and U', '>=65,000 and <135,000', 'Unfinished: Post construction buildout', 'Insulation Entirely Above Deck', 'Banking Activity Area', 'Mass', 'Facility for Visually Impaired - in a chapel', 'Retail-Mall Concourse', 'Loading Dock, Interior', 'Manufacturing facility', 'Retail (stand alone)', 'Metal framing (fixed), 95ft and above', 'Dormitory', 'Ec', 'N/A', 'Sports Arena-Court Sports Area-Class 4', 'Dining: cafeteria/fast food', 'Post Office-Sorting Area', 'School (secondary and university)', 'Healthcare facility - exam treatment room', 'Et', 'Guest Room', 'Attic and Other', 'Sports Arena-Court Sports Area-Class 2', 'Dining Area - facility for visually impaired', 'None', 'Metal framing (operable), below 95ft', 'Dining Area - all other', 'Semiheated', 'Hotel/motel (<75 rooms)', 'AFUE', 'Audience/seating area - sports arena', 'Pharmacy Area', 'School', 'Stairwell', 'Atrium - first 40ft in height', 'Office', 'Confinement Cells', 'Workshop', 'Restroom - all other', 'Convenience Store', 'Penitentiary', 'Electrical/Mechanical', 'Warehouse', 'Healthcare facility - imaging room', 'Multifamily Dwelling Unit', 'Retail', '<17,000', 'Office - Open Plan', 'Classroom/lecture/training - all other', 'Automotive', 'School/university', 'Museum-General Exhibition', 'Metal framing, (operable), 95ft and above', 'HSPF', 'Air/None', '4', 'Audience/seating area - exercise center', 'Manufacturing-Low Bay (<25ft floor to ceiling ht)', 'Multifamily', 'Water/Ground', 'Restaurant (full service)', 'tons', 'Single- or two-speed fan', 'Nonmetal framing (all)', 'No', 'Lobby - Hotel', 'COP', 'Convention Center-Exhibit Space', 'Audience/seating area - gymnasium', 'Nonswinging', 'Storage room - hospital', \"Healthcare facility - nurse's station\", 'Single-Zone Non-Residential', 'Museum', 'Group B', 'Non-Residential', 'Grocery store', 'Group I-1', 'Decorative', 'Laboratory - in or as a classroom', 'VAV', 'Single-Zone Residential', 'SL', '0', 'Hospital', 'Office (<5000 ft2)', 'Hotel/Motel', 'Fire station - sleeping quarters', 'Fire station', 'Corridor - hospital', 'EF', 'Audience/seating area - transportation facility', 'Locker Room', 'Transportation facility - baggage/carousel area', 'Group R-2', 'Museum-Restoration', 'Healthcare facility - Recovery', 'Heat Pump', 'Healthcard/hospital', 'Room Cavity Ratio', 'Corridor - all other', 'Gymnasium/Exercise Center-Playing Area', 'Group M', 'Fossil Fuel ', 'Emergency Vehicle Garage', 'Group F', 'Library - Reading Area', 'EER', 'Health-care clinic', '>=17,000 and <65,000', '3', 'Office (5000 - 50,000 ft2)', 'Group E & I-4', 'Audience/seating area - motion picture theater', 'Dormitory - living quarters', 'Sports Arena-Court Sports Area-Class 1', 'Police station', 'Sales Area', 'Manufacturing-High Bay (25-50ft floor to ceiling ht)', 'Lounge/Breakroom - all other', 'Classroom/lecture/training - penitentiary', 'Courthouse', 'Yes', 'Warehouse storage - medium to bulky, palletized items', 'Performing arts theater', 'Transportation', 'Hotel/motel (>75 rooms)', 'Corridor - facility for visually impaired', 'Office - Enclosed and < 250 sqft', 'Dining: family', 'Retail (strip mall)', 'Copy/Print Room', 'kBTU/h', 'Healthcare facility - Patient Room', 'Audience/seating area - penitentiary', 'Office - Enclosed and > 250 sqft', 'Healthcare facility - Physical Therapy', 'Dining Area - Bar Lounge/Leisure Dining', 'Audience/seating area - performing arts theater', 'Corridor - manufacturing facility', 'Religious Buildings-Worship Pulpit, Choir', 'Courtroom', 'Sports arena', '0% - 3.0%', 'Seating Area, General', 'Automotive facility', 'Hospital and outpatient surgery center', 'Lobby - all other', 'Vehicular Maintenance Area', 'Laundry/Washing Area', '>=240,000 and <760,000', 'All Other', 'Lobby - Peforming Arts Theater', 'Storage room < 50 sqft and < 1000 sqft'}\n",
            "247\n"
          ]
        }
      ]
    },
    {
      "cell_type": "markdown",
      "source": [
        "Creating a downloadable text file of valid dictionary values\n",
        "- Usage for later text extraction testing via Tesseract w/ custom dictionary"
      ],
      "metadata": {
        "id": "rI_kXUCzlhH8"
      }
    },
    {
      "cell_type": "code",
      "source": [
        "dictFileName = \"wordlistfile\"\n",
        "with open(dictFileName, \"w\") as f:\n",
        "  for entry in allTxtFieldVals:\n",
        "    f.write(entry+\"\\n\")"
      ],
      "metadata": {
        "id": "0QirqHHkmUc6"
      },
      "execution_count": null,
      "outputs": []
    },
    {
      "cell_type": "code",
      "source": [
        "# Run this only to download the dictionary file after compiling \n",
        "from google.colab import files\n",
        "files.download(dictFileName)"
      ],
      "metadata": {
        "id": "vJQQjn_Xn0X8",
        "colab": {
          "base_uri": "https://localhost:8080/",
          "height": 17
        },
        "outputId": "f93671cb-6697-4da2-ac17-a4113926244a"
      },
      "execution_count": null,
      "outputs": [
        {
          "output_type": "display_data",
          "data": {
            "text/plain": [
              "<IPython.core.display.Javascript object>"
            ],
            "application/javascript": [
              "\n",
              "    async function download(id, filename, size) {\n",
              "      if (!google.colab.kernel.accessAllowed) {\n",
              "        return;\n",
              "      }\n",
              "      const div = document.createElement('div');\n",
              "      const label = document.createElement('label');\n",
              "      label.textContent = `Downloading \"${filename}\": `;\n",
              "      div.appendChild(label);\n",
              "      const progress = document.createElement('progress');\n",
              "      progress.max = size;\n",
              "      div.appendChild(progress);\n",
              "      document.body.appendChild(div);\n",
              "\n",
              "      const buffers = [];\n",
              "      let downloaded = 0;\n",
              "\n",
              "      const channel = await google.colab.kernel.comms.open(id);\n",
              "      // Send a message to notify the kernel that we're ready.\n",
              "      channel.send({})\n",
              "\n",
              "      for await (const message of channel.messages) {\n",
              "        // Send a message to notify the kernel that we're ready.\n",
              "        channel.send({})\n",
              "        if (message.buffers) {\n",
              "          for (const buffer of message.buffers) {\n",
              "            buffers.push(buffer);\n",
              "            downloaded += buffer.byteLength;\n",
              "            progress.value = downloaded;\n",
              "          }\n",
              "        }\n",
              "      }\n",
              "      const blob = new Blob(buffers, {type: 'application/binary'});\n",
              "      const a = document.createElement('a');\n",
              "      a.href = window.URL.createObjectURL(blob);\n",
              "      a.download = filename;\n",
              "      div.appendChild(a);\n",
              "      a.click();\n",
              "      div.remove();\n",
              "    }\n",
              "  "
            ]
          },
          "metadata": {}
        },
        {
          "output_type": "display_data",
          "data": {
            "text/plain": [
              "<IPython.core.display.Javascript object>"
            ],
            "application/javascript": [
              "download(\"download_47c21088-a56d-41f1-873c-edc034fa0bb2\", \"wordlistfile\", 5480)"
            ]
          },
          "metadata": {}
        }
      ]
    },
    {
      "cell_type": "markdown",
      "source": [
        "# Improving OCR with the Data Dictionary\n",
        "##### Modifying instructions from this article, https://vovaprivalov.medium.com/tesseract-ocr-tips-custom-dictionary-to-improve-ocr-d2b9cd17850b\n",
        "##### From here, the goal is to get the model to focus on the terms from the dictionary for text extraction"
      ],
      "metadata": {
        "id": "WaxwLPAUKkdP"
      }
    },
    {
      "cell_type": "code",
      "source": [
        "!sudo apt install tesseract-ocr\n",
        "!pip install pytesseract"
      ],
      "metadata": {
        "colab": {
          "base_uri": "https://localhost:8080/"
        },
        "id": "TfFM8_mHuwom",
        "outputId": "fc2cab9d-ddc6-4f7d-a1db-187d0c6b30bf"
      },
      "execution_count": null,
      "outputs": [
        {
          "output_type": "stream",
          "name": "stdout",
          "text": [
            "Reading package lists... Done\n",
            "Building dependency tree       \n",
            "Reading state information... Done\n",
            "tesseract-ocr is already the newest version (4.00~git2288-10f4998a-2).\n",
            "The following package was automatically installed and is no longer required:\n",
            "  libnvidia-common-460\n",
            "Use 'sudo apt autoremove' to remove it.\n",
            "0 upgraded, 0 newly installed, 0 to remove and 20 not upgraded.\n",
            "Looking in indexes: https://pypi.org/simple, https://us-python.pkg.dev/colab-wheels/public/simple/\n",
            "Requirement already satisfied: pytesseract in /usr/local/lib/python3.7/dist-packages (0.3.10)\n",
            "Requirement already satisfied: Pillow>=8.0.0 in /usr/local/lib/python3.7/dist-packages (from pytesseract) (9.2.0)\n",
            "Requirement already satisfied: packaging>=21.3 in /usr/local/lib/python3.7/dist-packages (from pytesseract) (21.3)\n",
            "Requirement already satisfied: pyparsing!=3.0.5,>=2.0.2 in /usr/local/lib/python3.7/dist-packages (from packaging>=21.3->pytesseract) (3.0.9)\n"
          ]
        }
      ]
    },
    {
      "cell_type": "markdown",
      "source": [
        "##### Tesseract-OCR's github organization page has multiple relevant repositories for the data neeeded to train the dictionary and documentation for the following commands \n",
        "- Main two repositories are Tessdata (https://github.com/tesseract-ocr/tessdata) and Tesseract (https://github.com/tesseract-ocr/tesseract/blob/main/doc/combine_tessdata.1.asc)\n",
        "- Necessary to clone the tessdata repo to get the eng.traineddata (and other training files)"
      ],
      "metadata": {
        "id": "HKJ70nP9s1PW"
      }
    },
    {
      "cell_type": "code",
      "source": [
        "!which tesseract\n",
        "!git clone https://github.com/tesseract-ocr/tessdata.git\n"
      ],
      "metadata": {
        "colab": {
          "base_uri": "https://localhost:8080/"
        },
        "id": "Ho31fpPFA8PC",
        "outputId": "cde5887d-d183-4c72-f92d-73089745646a"
      },
      "execution_count": null,
      "outputs": [
        {
          "output_type": "stream",
          "name": "stdout",
          "text": [
            "/usr/bin/tesseract\n",
            "Cloning into 'tessdata'...\n",
            "remote: Enumerating objects: 769, done.\u001b[K\n",
            "remote: Counting objects: 100% (1/1), done.\u001b[K\n",
            "remote: Total 769 (delta 0), reused 1 (delta 0), pack-reused 768\u001b[K\n",
            "Receiving objects: 100% (769/769), 3.17 GiB | 24.61 MiB/s, done.\n",
            "Resolving deltas: 100% (178/178), done.\n",
            "Checking out files: 100% (172/172), done.\n"
          ]
        }
      ]
    },
    {
      "cell_type": "markdown",
      "source": [
        "##### Here unpackedTraining will be the name of the model we are building for Tesseract to later use"
      ],
      "metadata": {
        "id": "dDBQvRzysomB"
      }
    },
    {
      "cell_type": "code",
      "source": [
        "!mkdir unpackedTraining\n",
        "!combine_tessdata -u tessdata/eng.traineddata unpackedTraining/eng."
      ],
      "metadata": {
        "colab": {
          "base_uri": "https://localhost:8080/"
        },
        "id": "iM5naBM3DRa1",
        "outputId": "2b5361d9-4a19-4f81-f009-39cfa40ba2f3"
      },
      "execution_count": null,
      "outputs": [
        {
          "output_type": "stream",
          "name": "stdout",
          "text": [
            "Extracting tessdata components from tessdata/eng.traineddata\n",
            "Wrote unpackedTraining/eng.unicharset\n",
            "Wrote unpackedTraining/eng.unicharambigs\n",
            "Wrote unpackedTraining/eng.inttemp\n",
            "Wrote unpackedTraining/eng.pffmtable\n",
            "Wrote unpackedTraining/eng.normproto\n",
            "Wrote unpackedTraining/eng.punc-dawg\n",
            "Wrote unpackedTraining/eng.word-dawg\n",
            "Wrote unpackedTraining/eng.number-dawg\n",
            "Wrote unpackedTraining/eng.freq-dawg\n",
            "Wrote unpackedTraining/eng.shapetable\n",
            "Wrote unpackedTraining/eng.bigram-dawg\n",
            "Wrote unpackedTraining/eng.lstm\n",
            "Wrote unpackedTraining/eng.lstm-punc-dawg\n",
            "Wrote unpackedTraining/eng.lstm-word-dawg\n",
            "Wrote unpackedTraining/eng.lstm-number-dawg\n",
            "Wrote unpackedTraining/eng.lstm-unicharset\n",
            "Wrote unpackedTraining/eng.lstm-recoder\n",
            "Wrote unpackedTraining/eng.version\n",
            "Version string:4.00.00alpha:eng:synth20170629:[1,36,0,1Ct3,3,16Mp3,3Lfys64Lfx96Lrx96Lfx512O1c1]\n",
            "1:unicharset:size=7477, offset=192\n",
            "2:unicharambigs:size=1047, offset=7669\n",
            "3:inttemp:size=976552, offset=8716\n",
            "4:pffmtable:size=844, offset=985268\n",
            "5:normproto:size=13408, offset=986112\n",
            "6:punc-dawg:size=4322, offset=999520\n",
            "7:word-dawg:size=1082890, offset=1003842\n",
            "8:number-dawg:size=6426, offset=2086732\n",
            "9:freq-dawg:size=1410, offset=2093158\n",
            "13:shapetable:size=63346, offset=2094568\n",
            "14:bigram-dawg:size=16109842, offset=2157914\n",
            "17:lstm:size=1487588, offset=18267756\n",
            "18:lstm-punc-dawg:size=4322, offset=19755344\n",
            "19:lstm-word-dawg:size=3694794, offset=19759666\n",
            "20:lstm-number-dawg:size=4738, offset=23454460\n",
            "21:lstm-unicharset:size=6360, offset=23459198\n",
            "22:lstm-recoder:size=1012, offset=23465558\n",
            "23:version:size=80, offset=23466570\n"
          ]
        }
      ]
    },
    {
      "cell_type": "code",
      "source": [
        "!wordlist2dawg wordlistfile.txt tessdata/eng.lstm-word-dawg unpackedTraining/eng.lstm-unicharset"
      ],
      "metadata": {
        "colab": {
          "base_uri": "https://localhost:8080/"
        },
        "id": "Z5F0uv3NElee",
        "outputId": "f26c2004-9ac6-4889-d2f7-149da9a41e95"
      },
      "execution_count": null,
      "outputs": [
        {
          "output_type": "stream",
          "name": "stdout",
          "text": [
            "Loading unicharset from 'unpackedTraining/eng.lstm-unicharset'\n",
            "Reading word list from 'wordlistfile'\n",
            "Reducing Trie to SquishedDawg\n",
            "Writing squished DAWG to 'tessdata/eng.lstm-word-dawg'\n"
          ]
        }
      ]
    },
    {
      "cell_type": "code",
      "source": [
        "!combine_tessdata -o 'tessdata/eng.traineddata' 'tessdata/eng.lstm-word-dawg'"
      ],
      "metadata": {
        "colab": {
          "base_uri": "https://localhost:8080/"
        },
        "id": "ZR9d3kOfG6S9",
        "outputId": "fd056207-837c-4cb2-8363-8f4aced16190"
      },
      "execution_count": null,
      "outputs": [
        {
          "output_type": "stream",
          "name": "stdout",
          "text": [
            "Version string:4.00.00alpha:eng:synth20170629:[1,36,0,1Ct3,3,16Mp3,3Lfys64Lfx96Lrx96Lfx512O1c1]\n",
            "1:unicharset:size=7477, offset=192\n",
            "2:unicharambigs:size=1047, offset=7669\n",
            "3:inttemp:size=976552, offset=8716\n",
            "4:pffmtable:size=844, offset=985268\n",
            "5:normproto:size=13408, offset=986112\n",
            "6:punc-dawg:size=4322, offset=999520\n",
            "7:word-dawg:size=1082890, offset=1003842\n",
            "8:number-dawg:size=6426, offset=2086732\n",
            "9:freq-dawg:size=1410, offset=2093158\n",
            "13:shapetable:size=63346, offset=2094568\n",
            "14:bigram-dawg:size=16109842, offset=2157914\n",
            "17:lstm:size=1487588, offset=18267756\n",
            "18:lstm-punc-dawg:size=4322, offset=19755344\n",
            "19:lstm-word-dawg:size=20146, offset=19759666\n",
            "20:lstm-number-dawg:size=4738, offset=19779812\n",
            "21:lstm-unicharset:size=6360, offset=19784550\n",
            "22:lstm-recoder:size=1012, offset=19790910\n",
            "23:version:size=80, offset=19791922\n"
          ]
        }
      ]
    },
    {
      "cell_type": "markdown",
      "source": [
        "##### These commands move the irrelevant dawg files from the cloned tessdata folder to a temp and copy the the one dawg file we need back to finally create the model in the folder"
      ],
      "metadata": {
        "id": "HDK9Hqett0A1"
      }
    },
    {
      "cell_type": "code",
      "source": [
        "!mkdir temp\n",
        "!mv unpackedTraining/*dawg* temp\n",
        "import shutil\n",
        "shutil.copyfile('temp/eng.lstm-word-dawg','unpackedTraining/eng.lstm-word-dawg')"
      ],
      "metadata": {
        "id": "CigzGNdDHZTy",
        "colab": {
          "base_uri": "https://localhost:8080/",
          "height": 36
        },
        "outputId": "c3242ac2-5b43-4ee9-c13f-51073cc3e9f7"
      },
      "execution_count": null,
      "outputs": [
        {
          "output_type": "execute_result",
          "data": {
            "text/plain": [
              "'unpackedTraining/eng.lstm-word-dawg'"
            ],
            "application/vnd.google.colaboratory.intrinsic+json": {
              "type": "string"
            }
          },
          "metadata": {},
          "execution_count": 10
        }
      ]
    },
    {
      "cell_type": "code",
      "source": [
        "!combine_tessdata unpackedTraining/eng. "
      ],
      "metadata": {
        "colab": {
          "base_uri": "https://localhost:8080/"
        },
        "id": "DppJtH1meiyR",
        "outputId": "41ea1d23-ca35-4b51-84d0-73de565b177d"
      },
      "execution_count": null,
      "outputs": [
        {
          "output_type": "stream",
          "name": "stdout",
          "text": [
            "Combining tessdata files\n",
            "Output unpackedTraining/eng.traineddata created successfully.\n",
            "Version string:4.00.00alpha:eng:synth20170629:[1,36,0,1Ct3,3,16Mp3,3Lfys64Lfx96Lrx96Lfx512O1c1]\n",
            "1:unicharset:size=7477, offset=192\n",
            "2:unicharambigs:size=1047, offset=7669\n",
            "3:inttemp:size=976552, offset=8716\n",
            "4:pffmtable:size=844, offset=985268\n",
            "5:normproto:size=13408, offset=986112\n",
            "13:shapetable:size=63346, offset=999520\n",
            "17:lstm:size=1487588, offset=1062866\n",
            "19:lstm-word-dawg:size=3694794, offset=2550454\n",
            "21:lstm-unicharset:size=6360, offset=6245248\n",
            "22:lstm-recoder:size=1012, offset=6251608\n",
            "23:version:size=80, offset=6252620\n"
          ]
        }
      ]
    },
    {
      "cell_type": "code",
      "source": [
        "from google.colab import files\n",
        "uploaded = files.upload()"
      ],
      "metadata": {
        "colab": {
          "base_uri": "https://localhost:8080/",
          "height": 73,
          "resources": {
            "http://localhost:8080/nbextensions/google.colab/files.js": {
              "data": "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",
              "ok": true,
              "headers": [
                [
                  "content-type",
                  "application/javascript"
                ]
              ],
              "status": 200,
              "status_text": ""
            }
          }
        },
        "id": "0RSsD8vBxZ_Q",
        "outputId": "644fa93a-4395-468a-993d-a43ca9df83a2"
      },
      "execution_count": null,
      "outputs": [
        {
          "output_type": "display_data",
          "data": {
            "text/plain": [
              "<IPython.core.display.HTML object>"
            ],
            "text/html": [
              "\n",
              "     <input type=\"file\" id=\"files-9bd51eda-d901-4ba1-88f2-6aab4e5e5723\" name=\"files[]\" multiple disabled\n",
              "        style=\"border:none\" />\n",
              "     <output id=\"result-9bd51eda-d901-4ba1-88f2-6aab4e5e5723\">\n",
              "      Upload widget is only available when the cell has been executed in the\n",
              "      current browser session. Please rerun this cell to enable.\n",
              "      </output>\n",
              "      <script src=\"/nbextensions/google.colab/files.js\"></script> "
            ]
          },
          "metadata": {}
        },
        {
          "output_type": "stream",
          "name": "stdout",
          "text": [
            "Saving bounding_box.PNG to bounding_box.PNG\n"
          ]
        }
      ]
    },
    {
      "cell_type": "markdown",
      "source": [
        "##### textExtractResult.txt should now contain the results of the text extraction ran on the image you supplemented"
      ],
      "metadata": {
        "id": "gAZTaykPtBPw"
      }
    },
    {
      "cell_type": "code",
      "source": [
        "!mv unpackedTraining tessdata\n",
        "%env TESSDATA_PREFIX=/content/tessdata\n",
        "# Between the command 'tesseract' and the flag '-l', replace with name of your image file\n",
        "!tesseract bounding_box.PNG -l unpackedTraining/eng \"textExtractResult\""
      ],
      "metadata": {
        "colab": {
          "base_uri": "https://localhost:8080/"
        },
        "id": "C2A6gb8yrA0O",
        "outputId": "9f257734-6e1a-4d9b-bcc9-e121cf29d38c"
      },
      "execution_count": null,
      "outputs": [
        {
          "output_type": "stream",
          "name": "stdout",
          "text": [
            "mv: cannot stat 'unpackedTraining': No such file or directory\n",
            "env: TESSDATA_PREFIX=/content/tessdata\n",
            "Tesseract Open Source OCR Engine v4.0.0-beta.1 with Leptonica\n"
          ]
        }
      ]
    },
    {
      "cell_type": "markdown",
      "source": [
        "# Cleaning the Extracted Data\n",
        "- Focus for removing empty lines\n",
        "- Storing data into a relevant data structure for manipulation\n",
        "- Running spellchecker algorithm on the data"
      ],
      "metadata": {
        "id": "DvYQHXsstPOr"
      }
    },
    {
      "cell_type": "code",
      "source": [
        "extractedData = set()\n",
        "with open(\"textExtractResult.txt\", \"r\") as file:\n",
        "  for line in file:\n",
        "    if len(line) > 0:\n",
        "      extractedData.add(line.replace(\"\\n\", \"\").replace(\" \", \"\"))\n",
        "extractedData"
      ],
      "metadata": {
        "colab": {
          "base_uri": "https://localhost:8080/"
        },
        "id": "ee993T7ysZlq",
        "outputId": "9a0667b7-809b-4ba5-8b60-294561316d8c"
      },
      "execution_count": null,
      "outputs": [
        {
          "output_type": "execute_result",
          "data": {
            "text/plain": [
              "{'',\n",
              " '\\x0c',\n",
              " '&Vertical',\n",
              " '(%)',\n",
              " '(ft)',\n",
              " '0',\n",
              " '104266',\n",
              " '105107.08',\n",
              " '13559',\n",
              " '1355941.02065',\n",
              " '19544.57',\n",
              " '19554.92',\n",
              " '2670.64',\n",
              " '2670.648.11',\n",
              " '32953,51',\n",
              " '33.26597',\n",
              " '33054.08',\n",
              " '34964,89',\n",
              " '34964.89|33.26597',\n",
              " '41.02085',\n",
              " '46.02463',\n",
              " '49.8101',\n",
              " '4968',\n",
              " '8.104266',\n",
              " '9000.08',\n",
              " '9000.08|46.02463',\n",
              " '9735.17',\n",
              " '9735.1749.8101',\n",
              " 'Above-',\n",
              " 'Above-GradeWall&FenestrationAreas',\n",
              " 'Area(ff%)',\n",
              " 'Area(ft%)',\n",
              " 'Areaby',\n",
              " 'Areas',\n",
              " 'BaselineCase',\n",
              " 'Building',\n",
              " 'Bulding',\n",
              " 'C%)',\n",
              " 'CIEnergysimulz',\n",
              " 'CINFRCtesting',\n",
              " 'Doc.Location|',\n",
              " 'EN-200',\n",
              " 'East1954457',\n",
              " 'FLBNLWindow',\n",
              " 'Glazing',\n",
              " 'GradeWall',\n",
              " 'HowweretheP',\n",
              " 'North3205351',\n",
              " 'Orientation',\n",
              " 'Orientatio|Window+Wall',\n",
              " 'ProposedCase',\n",
              " 'Roof+Skylight',\n",
              " 'Roof+SkylightArea(ft’)',\n",
              " 'SkylightArea',\n",
              " 'South33054.08',\n",
              " 'Supporting',\n",
              " 'Total105107.08',\n",
              " 'VerticalGlazingArea',\n",
              " 'West19554.92',\n",
              " 'Window+Wall',\n",
              " '[JOther(Descrit',\n",
              " '[JTableA8.2(w',\n",
              " 'nArea(ft))'}"
            ]
          },
          "metadata": {},
          "execution_count": 52
        }
      ]
    },
    {
      "cell_type": "markdown",
      "source": [
        "##### Concept for Spell Checker"
      ],
      "metadata": {
        "id": "dUX_hzCf2r_Z"
      }
    },
    {
      "cell_type": "code",
      "source": [
        "import re\n",
        "from collections import Counter\n",
        "\n",
        "# Modified from Peter Norvig's Spelling Checker (http://norvig.com/spell-correct.html)\n",
        "def runSpellCheck(word, dictFileName):\n",
        "  def words(text): return re.findall(r'.+', text.lower())\n",
        "\n",
        "  with open(f\"{dictFileName}lower\", \"w\") as file, open(f\"{dictFileName}\", \"r\") as main:\n",
        "    for line in main:\n",
        "      file.write(line.lower())\n",
        "    \n",
        "  WORDS = Counter(words(open(f\"{dictFileName}lower\").read()))\n",
        "\n",
        "  def P(word, N=sum(WORDS.values())): \n",
        "      \"Probability of `word`.\"\n",
        "      return WORDS[word] / N\n",
        "\n",
        "  def correction(word): \n",
        "      \"Most probable spelling correction for word.\"\n",
        "      return max(candidates(word), key=P)\n",
        "\n",
        "  def candidates(word): \n",
        "      \"Generate possible spelling corrections for word.\"\n",
        "      return (known([word]) or known(edits1(word)) or known(edits2(word)) or [word])\n",
        "\n",
        "  def known(words): \n",
        "      \"The subset of `words` that appear in the dictionary of WORDS.\"\n",
        "      return set(w for w in words if w in WORDS)\n",
        "\n",
        "  def edits1(word):\n",
        "      \"All edits that are one edit away from `word`.\"\n",
        "      characters = 'abcdefghijklmnopqrstuvwxyz/-,.0123456789'\n",
        "      splits     = [(word[:i], word[i:])    for i in range(len(word) + 1)]\n",
        "      deletes    = [L + R[1:]               for L, R in splits if R]\n",
        "  \n",
        "  def edits2(word): \n",
        "    \"All edits that are two edits away from `word`.\"\n",
        "    return (e2 for e1 in edits1(word) for e2 in edits1(e1))\n",
        "  \n",
        "  return correction(word)"
      ],
      "metadata": {
        "id": "rhBMUy1Gv_Pi"
      },
      "execution_count": null,
      "outputs": []
    }
  ]
}